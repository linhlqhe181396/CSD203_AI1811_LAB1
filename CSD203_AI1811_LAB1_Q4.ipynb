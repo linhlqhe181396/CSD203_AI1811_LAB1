{
 "cells": [
  {
   "cell_type": "code",
   "execution_count": 1,
   "id": "6b726937",
   "metadata": {},
   "outputs": [],
   "source": [
    "class Node:\n",
    "    def __init__(self, data):\n",
    "        self.data = data\n",
    "        self.next = None\n",
    "\n",
    "class circleList:\n",
    "    def __init__(self):\n",
    "        self.head = None\n",
    "\n",
    "    def addtoTail(self, data):\n",
    "        newnode = Node(data)\n",
    "        if not self.head:\n",
    "            self.head = newnode\n",
    "            newnode.next = self.head\n",
    "        else:\n",
    "            current = self.head\n",
    "            while current.next != self.head:\n",
    "                current = current.next\n",
    "            current.next = new_node\n",
    "            newnode.next = self.head\n",
    "\n",
    "    def addtoHead(self, data):\n",
    "        newnode = Node(data)\n",
    "        newnode.next = self.head\n",
    "        current = self.head\n",
    "        while current.next != self.head:\n",
    "            current = current.next\n",
    "        current.next = new_node\n",
    "        self.head = new_node\n",
    "\n"
   ]
  },
  {
   "cell_type": "code",
   "execution_count": null,
   "id": "95fee121",
   "metadata": {},
   "outputs": [],
   "source": []
  }
 ],
 "metadata": {
  "kernelspec": {
   "display_name": "Python 3 (ipykernel)",
   "language": "python",
   "name": "python3"
  },
  "language_info": {
   "codemirror_mode": {
    "name": "ipython",
    "version": 3
   },
   "file_extension": ".py",
   "mimetype": "text/x-python",
   "name": "python",
   "nbconvert_exporter": "python",
   "pygments_lexer": "ipython3",
   "version": "3.11.5"
  }
 },
 "nbformat": 4,
 "nbformat_minor": 5
}
