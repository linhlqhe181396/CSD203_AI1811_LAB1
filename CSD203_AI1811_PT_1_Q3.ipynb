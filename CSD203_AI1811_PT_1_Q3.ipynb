{
 "cells": [
  {
   "cell_type": "code",
   "execution_count": null,
   "id": "bf96fd3c",
   "metadata": {},
   "outputs": [],
   "source": [
    "class Node:\n",
    "    def __init__(self, data):\n",
    "        self.data = data\n",
    "        self.next = None\n",
    "        self.prev = None\n",
    "\n",
    "class doubleList:\n",
    "    def __init__(self):\n",
    "        self.head = None\n",
    "\n",
    "    def addtoTail(self, data):\n",
    "        newnode = Node(data)\n",
    "        if not self.head:\n",
    "            self.head = newnode\n",
    "        else:\n",
    "            current = self.head\n",
    "            while current.next:\n",
    "                current = current.next\n",
    "            current.next = newnode\n",
    "            newnode.prev = current\n",
    "\n",
    "    def addtoHead(self, data):\n",
    "        newnode = Node(data)\n",
    "        newnode.next = self.head\n",
    "        if self.head:\n",
    "            self.head.prev = newnode\n",
    "        self.head = newnode\n",
    "\n",
    "\n",
    "\n"
   ]
  }
 ],
 "metadata": {
  "kernelspec": {
   "display_name": "Python 3 (ipykernel)",
   "language": "python",
   "name": "python3"
  },
  "language_info": {
   "codemirror_mode": {
    "name": "ipython",
    "version": 3
   },
   "file_extension": ".py",
   "mimetype": "text/x-python",
   "name": "python",
   "nbconvert_exporter": "python",
   "pygments_lexer": "ipython3",
   "version": "3.11.5"
  }
 },
 "nbformat": 4,
 "nbformat_minor": 5
}
